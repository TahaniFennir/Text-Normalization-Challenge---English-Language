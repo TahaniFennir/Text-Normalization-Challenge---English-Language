{
 "cells": [
  {
   "cell_type": "code",
   "execution_count": 20,
   "metadata": {},
   "outputs": [],
   "source": [
    "from sklearn.model_selection import train_test_split\n",
    "import pandas as pd\n",
    "import numpy as np\n",
    "import gc\n",
    "import re\n",
    "from sklearn.model_selection import train_test_split\n",
    "import keras\n",
    "from keras.models import Sequential\n",
    "from keras.layers import LSTM, Dense, Dropout\n",
    "from keras.optimizers import RMSprop\n",
    "from matplotlib import pyplot as plt"
   ]
  },
  {
   "cell_type": "code",
   "execution_count": 21,
   "metadata": {},
   "outputs": [],
   "source": [
    "max_num_features = 10\n",
    "space_letter = 0\n",
    "space_padded_tokens = []"
   ]
  },
  {
   "cell_type": "code",
   "execution_count": 22,
   "metadata": {},
   "outputs": [
    {
     "data": {
      "text/plain": [
       "array(['PLAIN', 'PUNCT', 'DATE', 'LETTERS', 'CARDINAL', 'VERBATIM',\n",
       "       'DECIMAL', 'MEASURE', 'MONEY', 'ORDINAL', 'TIME', 'ELECTRONIC',\n",
       "       'DIGIT', 'FRACTION', 'TELEPHONE', 'ADDRESS'], dtype=object)"
      ]
     },
     "execution_count": 22,
     "metadata": {},
     "output_type": "execute_result"
    }
   ],
   "source": [
    "training_data = pd.read_csv('input/en_train.csv',encoding='utf-8')\n",
    "max_data_size = 320000\n",
    "training_data['class'].unique()\n"
   ]
  },
  {
   "cell_type": "code",
   "execution_count": 23,
   "metadata": {},
   "outputs": [],
   "source": [
    "encoded_classes = pd.factorize(training_data['class'])\n",
    "x_data = []\n",
    "labels = encoded_classes[1]\n",
    "y_data = encoded_classes[0]\n",
    "gc.collect()\n",
    "count = 0"
   ]
  },
  {
   "cell_type": "code",
   "execution_count": 24,
   "metadata": {},
   "outputs": [],
   "source": [
    "for before_value in training_data['before'].values:\n",
    "    row = np.ones(max_num_features, dtype=int) * space_letter\n",
    "    for before_value_char, i in zip(list(str(before_value)), np.arange(max_num_features)):\n",
    "        row[i] = ord(before_value_char)\n",
    "    count+=1\n",
    "    x_data.append(row)"
   ]
  },
  {
   "cell_type": "code",
   "execution_count": 25,
   "metadata": {},
   "outputs": [],
   "source": [
    "def make_flat_context_windows(data, pad_size, max_num_features, boundary_letter):\n",
    "    pad = np.zeros(shape=max_num_features)\n",
    "    pads = [pad for _ in  np.arange(pad_size)]\n",
    "    data = pads + data + pads\n",
    "    flattened_context_windows = []\n",
    "    for lower_bound in np.arange(len(data) - pad_size * 2):\n",
    "        flattened_context_window = []\n",
    "        context_window_size = pad_size * 2 + 1\n",
    "        upper_bound = lower_bound + context_window_size\n",
    "        context_window = data[lower_bound:upper_bound]\n",
    "        for word in context_window:\n",
    "            flattened_context_window.append([boundary_letter])\n",
    "            flattened_context_window.append(word)\n",
    "        flattened_context_window.append([boundary_letter])\n",
    "        flattened_context_windows.append([int(word) for row in flattened_context_window for word in row])\n",
    "    return flattened_context_windows"
   ]
  },
  {
   "cell_type": "code",
   "execution_count": 26,
   "metadata": {},
   "outputs": [
    {
     "data": {
      "text/plain": [
       "0"
      ]
     },
     "execution_count": 26,
     "metadata": {},
     "output_type": "execute_result"
    }
   ],
   "source": [
    "x_data = x_data[:max_data_size]\n",
    "y_data = y_data[:max_data_size]\n",
    "x_data = np.array(make_flat_context_windows(x_data, pad_size = 1, max_num_features= max_num_features, boundary_letter=-1))\n",
    "gc.collect()"
   ]
  },
  {
   "cell_type": "code",
   "execution_count": 27,
   "metadata": {},
   "outputs": [
    {
     "data": {
      "text/plain": [
       "20"
      ]
     },
     "execution_count": 27,
     "metadata": {},
     "output_type": "execute_result"
    }
   ],
   "source": [
    "x_train = np.array(x_data)\n",
    "y_train = np.array(y_data)\n",
    "gc.collect()"
   ]
  },
  {
   "cell_type": "code",
   "execution_count": 28,
   "metadata": {},
   "outputs": [],
   "source": [
    "x_train, x_valid, y_train, y_valid = train_test_split(x_train, y_train, test_size=0.1)"
   ]
  },
  {
   "cell_type": "code",
   "execution_count": 29,
   "metadata": {},
   "outputs": [
    {
     "data": {
      "text/plain": [
       "16"
      ]
     },
     "execution_count": 29,
     "metadata": {},
     "output_type": "execute_result"
    }
   ],
   "source": [
    "num_classes = len(labels)\n",
    "num_classes"
   ]
  },
  {
   "cell_type": "code",
   "execution_count": 30,
   "metadata": {},
   "outputs": [
    {
     "name": "stdout",
     "output_type": "stream",
     "text": [
      "(288000, 34)\n"
     ]
    }
   ],
   "source": [
    "y_train = keras.utils.to_categorical(y_train, num_classes)\n",
    "y_valid = keras.utils.to_categorical(y_valid, num_classes)\n",
    "print(x_train.shape)"
   ]
  },
  {
   "cell_type": "code",
   "execution_count": 31,
   "metadata": {},
   "outputs": [],
   "source": [
    "x_train = np.reshape(x_train, (x_train.shape[0], x_train.shape[1], 1))\n",
    "x_valid = np.reshape(x_valid, (x_valid.shape[0], x_valid.shape[1], 1))"
   ]
  },
  {
   "cell_type": "code",
   "execution_count": 32,
   "metadata": {},
   "outputs": [],
   "source": [
    "model = Sequential()\n",
    "model.add(LSTM(128, dropout=0.2, recurrent_dropout=0.2, input_shape=((max_num_features * 3) + 4, 1)))\n",
    "model.add(Dense(32, activation='relu'))\n",
    "model.add(Dropout(0.2))\n",
    "model.add(Dense(len(labels), activation='softmax'))"
   ]
  },
  {
   "cell_type": "code",
   "execution_count": 33,
   "metadata": {},
   "outputs": [
    {
     "name": "stdout",
     "output_type": "stream",
     "text": [
      "Model: \"sequential_1\"\n",
      "_________________________________________________________________\n",
      "Layer (type)                 Output Shape              Param #   \n",
      "=================================================================\n",
      "lstm_1 (LSTM)                (None, 128)               66560     \n",
      "_________________________________________________________________\n",
      "dense_2 (Dense)              (None, 32)                4128      \n",
      "_________________________________________________________________\n",
      "dropout_1 (Dropout)          (None, 32)                0         \n",
      "_________________________________________________________________\n",
      "dense_3 (Dense)              (None, 16)                528       \n",
      "=================================================================\n",
      "Total params: 71,216\n",
      "Trainable params: 71,216\n",
      "Non-trainable params: 0\n",
      "_________________________________________________________________\n"
     ]
    }
   ],
   "source": [
    "model.summary()"
   ]
  },
  {
   "cell_type": "code",
   "execution_count": 34,
   "metadata": {},
   "outputs": [],
   "source": [
    "model.compile(optimizer='rmsprop', loss='categorical_crossentropy', metrics=['accuracy'])"
   ]
  },
  {
   "cell_type": "code",
   "execution_count": 35,
   "metadata": {},
   "outputs": [
    {
     "name": "stdout",
     "output_type": "stream",
     "text": [
      "Epoch 1/50\n",
      "1125/1125 [==============================] - 222s 197ms/step - loss: 0.2745 - accuracy: 0.9315 - val_loss: 0.1782 - val_accuracy: 0.9535\n",
      "Epoch 2/50\n",
      "1125/1125 [==============================] - 221s 196ms/step - loss: 0.1454 - accuracy: 0.9638 - val_loss: 0.2399 - val_accuracy: 0.9299\n",
      "Epoch 3/50\n",
      "1125/1125 [==============================] - 200s 178ms/step - loss: 0.1243 - accuracy: 0.9692 - val_loss: 0.2450 - val_accuracy: 0.9170\n",
      "Epoch 4/50\n",
      "1125/1125 [==============================] - 191s 170ms/step - loss: 0.1128 - accuracy: 0.9723 - val_loss: 0.4158 - val_accuracy: 0.8127\n",
      "Epoch 5/50\n",
      "1125/1125 [==============================] - 191s 170ms/step - loss: 0.1065 - accuracy: 0.9742 - val_loss: 0.3108 - val_accuracy: 0.8959\n",
      "Epoch 6/50\n",
      "1125/1125 [==============================] - 192s 170ms/step - loss: 0.1014 - accuracy: 0.9751 - val_loss: 0.1858 - val_accuracy: 0.9598\n",
      "Epoch 7/50\n",
      "1125/1125 [==============================] - 190s 169ms/step - loss: 0.0980 - accuracy: 0.9760 - val_loss: 0.5159 - val_accuracy: 0.8150\n",
      "Epoch 8/50\n",
      "1125/1125 [==============================] - 209s 186ms/step - loss: 0.0936 - accuracy: 0.9771 - val_loss: 0.2411 - val_accuracy: 0.9470\n",
      "Epoch 9/50\n",
      "1125/1125 [==============================] - 202s 179ms/step - loss: 0.0919 - accuracy: 0.9778 - val_loss: 0.4701 - val_accuracy: 0.7950\n",
      "Epoch 10/50\n",
      "1125/1125 [==============================] - 202s 179ms/step - loss: 0.0896 - accuracy: 0.9783 - val_loss: 0.5885 - val_accuracy: 0.7653\n",
      "Epoch 11/50\n",
      "1125/1125 [==============================] - 203s 180ms/step - loss: 0.0893 - accuracy: 0.9782 - val_loss: 0.2963 - val_accuracy: 0.9225\n",
      "Epoch 12/50\n",
      "1125/1125 [==============================] - 203s 180ms/step - loss: 0.0868 - accuracy: 0.9789 - val_loss: 0.4059 - val_accuracy: 0.9001\n",
      "Epoch 13/50\n",
      "1125/1125 [==============================] - 209s 186ms/step - loss: 0.0877 - accuracy: 0.9790 - val_loss: 0.2988 - val_accuracy: 0.9179\n",
      "Epoch 14/50\n",
      "1125/1125 [==============================] - 203s 180ms/step - loss: 0.0854 - accuracy: 0.9793 - val_loss: 0.3248 - val_accuracy: 0.9097\n",
      "Epoch 15/50\n",
      "1125/1125 [==============================] - 204s 181ms/step - loss: 0.0850 - accuracy: 0.9796 - val_loss: 0.7185 - val_accuracy: 0.7677\n",
      "Epoch 16/50\n",
      "1125/1125 [==============================] - 203s 181ms/step - loss: 0.0845 - accuracy: 0.9795 - val_loss: 0.3529 - val_accuracy: 0.9153\n",
      "Epoch 17/50\n",
      "1125/1125 [==============================] - 197s 175ms/step - loss: 0.0832 - accuracy: 0.9798 - val_loss: 0.3800 - val_accuracy: 0.9178\n",
      "Epoch 18/50\n",
      "1125/1125 [==============================] - 193s 171ms/step - loss: 0.0842 - accuracy: 0.9798 - val_loss: 0.3526 - val_accuracy: 0.9225\n",
      "Epoch 19/50\n",
      "1125/1125 [==============================] - 205s 183ms/step - loss: 0.0842 - accuracy: 0.9797 - val_loss: 0.5138 - val_accuracy: 0.8597\n",
      "Epoch 20/50\n",
      "1125/1125 [==============================] - 203s 181ms/step - loss: 0.0836 - accuracy: 0.9799 - val_loss: 0.3471 - val_accuracy: 0.9287\n",
      "Epoch 21/50\n",
      "1125/1125 [==============================] - 4086s 4s/step - loss: 0.0827 - accuracy: 0.9802 - val_loss: 0.4717 - val_accuracy: 0.8498\n",
      "Epoch 22/50\n",
      "1125/1125 [==============================] - 209s 185ms/step - loss: 0.0841 - accuracy: 0.9800 - val_loss: 0.3064 - val_accuracy: 0.9435\n",
      "Epoch 23/50\n",
      "1125/1125 [==============================] - 197s 175ms/step - loss: 0.0825 - accuracy: 0.9801 - val_loss: 0.3932 - val_accuracy: 0.8927\n",
      "Epoch 24/50\n",
      "1125/1125 [==============================] - 299s 266ms/step - loss: 0.0823 - accuracy: 0.9804 - val_loss: 0.6640 - val_accuracy: 0.7358\n",
      "Epoch 27/50\n",
      "1125/1125 [==============================] - 790s 702ms/step - loss: 0.0812 - accuracy: 0.9804 - val_loss: 0.6589 - val_accuracy: 0.8153\n",
      "Epoch 28/50\n",
      "1125/1125 [==============================] - 201s 178ms/step - loss: 0.0815 - accuracy: 0.9804 - val_loss: 0.4139 - val_accuracy: 0.9035\n",
      "Epoch 29/50\n",
      "1125/1125 [==============================] - 194s 172ms/step - loss: 0.0813 - accuracy: 0.9802 - val_loss: 0.5387 - val_accuracy: 0.8192\n",
      "Epoch 30/50\n",
      "1125/1125 [==============================] - 195s 173ms/step - loss: 0.0811 - accuracy: 0.9805 - val_loss: 0.4407 - val_accuracy: 0.9047\n",
      "Epoch 31/50\n",
      "1125/1125 [==============================] - 198s 176ms/step - loss: 0.0813 - accuracy: 0.9804 - val_loss: 0.3628 - val_accuracy: 0.8994\n",
      "Epoch 32/50\n",
      "1125/1125 [==============================] - 194s 173ms/step - loss: 0.0815 - accuracy: 0.9803 - val_loss: 0.5432 - val_accuracy: 0.8499\n",
      "Epoch 33/50\n",
      "1125/1125 [==============================] - 194s 172ms/step - loss: 0.0809 - accuracy: 0.9806 - val_loss: 0.4053 - val_accuracy: 0.9300\n",
      "Epoch 34/50\n",
      "1125/1125 [==============================] - 198s 176ms/step - loss: 0.0809 - accuracy: 0.9807 - val_loss: 0.3420 - val_accuracy: 0.9117\n",
      "Epoch 35/50\n",
      "1125/1125 [==============================] - 193s 172ms/step - loss: 0.0817 - accuracy: 0.9803 - val_loss: 0.6240 - val_accuracy: 0.8134\n",
      "Epoch 36/50\n",
      "1125/1125 [==============================] - 195s 173ms/step - loss: 0.0806 - accuracy: 0.9804 - val_loss: 0.6895 - val_accuracy: 0.7827\n",
      "Epoch 37/50\n",
      "1125/1125 [==============================] - 194s 172ms/step - loss: 0.0812 - accuracy: 0.9805 - val_loss: 0.3981 - val_accuracy: 0.9073\n",
      "Epoch 38/50\n",
      "1125/1125 [==============================] - 196s 174ms/step - loss: 0.0814 - accuracy: 0.9806 - val_loss: 0.5490 - val_accuracy: 0.7765\n",
      "Epoch 39/50\n",
      "1125/1125 [==============================] - 195s 173ms/step - loss: 0.0799 - accuracy: 0.9807 - val_loss: 0.5336 - val_accuracy: 0.8173\n",
      "Epoch 40/50\n",
      "1125/1125 [==============================] - 196s 175ms/step - loss: 0.0809 - accuracy: 0.9804 - val_loss: 0.5910 - val_accuracy: 0.8282\n",
      "Epoch 41/50\n",
      "1125/1125 [==============================] - 197s 175ms/step - loss: 0.0810 - accuracy: 0.9810 - val_loss: 0.4371 - val_accuracy: 0.8766\n",
      "Epoch 42/50\n",
      "1125/1125 [==============================] - 197s 175ms/step - loss: 0.0806 - accuracy: 0.9806 - val_loss: 0.6454 - val_accuracy: 0.8386\n",
      "Epoch 43/50\n",
      "1125/1125 [==============================] - 201s 179ms/step - loss: 0.0804 - accuracy: 0.9805 - val_loss: 0.5035 - val_accuracy: 0.8580\n",
      "Epoch 46/50\n",
      "1125/1125 [==============================] - 196s 175ms/step - loss: 0.0797 - accuracy: 0.9807 - val_loss: 0.4671 - val_accuracy: 0.9141\n",
      "Epoch 47/50\n",
      "1125/1125 [==============================] - 195s 173ms/step - loss: 0.0804 - accuracy: 0.9806 - val_loss: 0.5498 - val_accuracy: 0.8487\n",
      "Epoch 48/50\n",
      "1125/1125 [==============================] - 195s 173ms/step - loss: 0.0795 - accuracy: 0.9808 - val_loss: 0.5556 - val_accuracy: 0.8402\n",
      "Epoch 49/50\n",
      "1125/1125 [==============================] - 196s 174ms/step - loss: 0.0800 - accuracy: 0.9808 - val_loss: 0.4589 - val_accuracy: 0.9190\n",
      "Epoch 50/50\n",
      "1125/1125 [==============================] - 179s 159ms/step - loss: 0.0802 - accuracy: 0.9807 - val_loss: 0.4695 - val_accuracy: 0.8952\n"
     ]
    }
   ],
   "source": [
    "history = model.fit(x_train, y_train, batch_size=256, epochs=50, verbose=1, validation_data=(x_valid, y_valid))"
   ]
  },
  {
   "cell_type": "code",
   "execution_count": 36,
   "metadata": {},
   "outputs": [
    {
     "data": {
      "text/plain": [
       "4013"
      ]
     },
     "execution_count": 36,
     "metadata": {},
     "output_type": "execute_result"
    }
   ],
   "source": [
    "gc.collect()"
   ]
  },
  {
   "cell_type": "code",
   "execution_count": 37,
   "metadata": {},
   "outputs": [],
   "source": [
    "score = model.evaluate(x_valid, y_valid, verbose=0)"
   ]
  },
  {
   "cell_type": "code",
   "execution_count": 38,
   "metadata": {},
   "outputs": [
    {
     "name": "stdout",
     "output_type": "stream",
     "text": [
      "Accuracy on validaton dataset\n",
      "0.8952187299728394\n"
     ]
    }
   ],
   "source": [
    "print(\"Accuracy on validaton dataset\")\n",
    "print(score[1])\n"
   ]
  },
  {
   "cell_type": "code",
   "execution_count": 65,
   "metadata": {},
   "outputs": [
    {
     "data": {
      "image/png": "[encoded data removed]",
      "text/plain": [
       "<Figure size 432x288 with 1 Axes>"
      ]
     },
     "metadata": {
      "needs_background": "light"
     },
     "output_type": "display_data"
    }
   ],
   "source": [
    "plt.plot(history.history['accuracy'])\n",
    "plt.title(\"Accuracy\")\n",
    "plt.ylabel(\"Accuracy\")\n",
    "plt.xlabel(\"Epoch\")\n",
    "plt.show()"
   ]
  },
  {
   "cell_type": "code",
   "execution_count": null,
   "metadata": {},
   "outputs": [],
   "source": []
  },
  {
   "cell_type": "code",
   "execution_count": 41,
   "metadata": {},
   "outputs": [
    {
     "data": {
      "image/png": "[encoded data removed]",
      "text/plain": [
       "<Figure size 432x288 with 1 Axes>"
      ]
     },
     "metadata": {
      "needs_background": "light"
     },
     "output_type": "display_data"
    }
   ],
   "source": [
    "plt.plot(history.history['loss'])\n",
    "plt.title('Loss')\n",
    "plt.ylabel(\"Loss\")\n",
    "plt.xlabel(\"Epoch\")\n",
    "plt.show()"
   ]
  },
  {
   "cell_type": "code",
   "execution_count": 44,
   "metadata": {},
   "outputs": [],
   "source": [
    "predicted_valid = model.predict(x_valid)"
   ]
  },
  {
   "cell_type": "code",
   "execution_count": 45,
   "metadata": {},
   "outputs": [],
   "source": [
    "predicted_valid = [labels[np.argmax(x)] for x in predicted_valid]\n",
    "x_valid = [[chr(x) for x in y[2 + max_num_features: 2 + max_num_features * 2]] for y in x_valid]\n",
    "x_valid = [''.join(x) for x in x_valid]\n",
    "x_valid = [re.sub('a+$', '', x) for x in x_valid]"
   ]
  },
  {
   "cell_type": "code",
   "execution_count": 46,
   "metadata": {},
   "outputs": [
    {
     "data": {
      "text/plain": [
       "59956"
      ]
     },
     "execution_count": 46,
     "metadata": {},
     "output_type": "execute_result"
    }
   ],
   "source": [
    "gc.collect()"
   ]
  },
  {
   "cell_type": "code",
   "execution_count": 47,
   "metadata": {},
   "outputs": [],
   "source": [
    "df_predicted_valid = pd.DataFrame(columns=['data', 'predict'])\n",
    "df_predicted_valid['data'] = x_valid\n",
    "df_predicted_valid['predict'] = predicted_valid\n",
    "df_predicted_valid.to_csv('validation_pred_lstm.csv')"
   ]
  },
  {
   "cell_type": "code",
   "execution_count": 63,
   "metadata": {},
   "outputs": [
    {
     "data": {
      "text/html": [
       "<div>\n",
       "<style scoped>\n",
       "    .dataframe tbody tr th:only-of-type {\n",
       "        vertical-align: middle;\n",
       "    }\n",
       "\n",
       "    .dataframe tbody tr th {\n",
       "        vertical-align: top;\n",
       "    }\n",
       "\n",
       "    .dataframe thead th {\n",
       "        text-align: right;\n",
       "    }\n",
       "</style>\n",
       "<table border=\"1\" class=\"dataframe\">\n",
       "  <thead>\n",
       "    <tr style=\"text-align: right;\">\n",
       "      <th></th>\n",
       "      <th>data</th>\n",
       "      <th>predict</th>\n",
       "    </tr>\n",
       "  </thead>\n",
       "  <tbody>\n",
       "    <tr>\n",
       "      <th>0</th>\n",
       "      <td>1,246 km²\u0000</td>\n",
       "      <td>MONEY</td>\n",
       "    </tr>\n",
       "    <tr>\n",
       "      <th>1</th>\n",
       "      <td>London\u0000\u0000\u0000\u0000</td>\n",
       "      <td>PLAIN</td>\n",
       "    </tr>\n",
       "    <tr>\n",
       "      <th>2</th>\n",
       "      <td>Etales\u0000\u0000\u0000\u0000</td>\n",
       "      <td>PLAIN</td>\n",
       "    </tr>\n",
       "    <tr>\n",
       "      <th>3</th>\n",
       "      <td>window\u0000\u0000\u0000\u0000</td>\n",
       "      <td>PLAIN</td>\n",
       "    </tr>\n",
       "    <tr>\n",
       "      <th>4</th>\n",
       "      <td>cancer\u0000\u0000\u0000\u0000</td>\n",
       "      <td>PLAIN</td>\n",
       "    </tr>\n",
       "    <tr>\n",
       "      <th>5</th>\n",
       "      <td>Macclesfie</td>\n",
       "      <td>PLAIN</td>\n",
       "    </tr>\n",
       "    <tr>\n",
       "      <th>6</th>\n",
       "      <td>ت\u0000\u0000\u0000\u0000\u0000\u0000\u0000\u0000\u0000</td>\n",
       "      <td>VERBATIM</td>\n",
       "    </tr>\n",
       "    <tr>\n",
       "      <th>7</th>\n",
       "      <td>of\u0000\u0000\u0000\u0000\u0000\u0000\u0000\u0000</td>\n",
       "      <td>PLAIN</td>\n",
       "    </tr>\n",
       "    <tr>\n",
       "      <th>8</th>\n",
       "      <td>to\u0000\u0000\u0000\u0000\u0000\u0000\u0000\u0000</td>\n",
       "      <td>PLAIN</td>\n",
       "    </tr>\n",
       "    <tr>\n",
       "      <th>9</th>\n",
       "      <td>Dhruva\u0000\u0000\u0000\u0000</td>\n",
       "      <td>PLAIN</td>\n",
       "    </tr>\n",
       "    <tr>\n",
       "      <th>10</th>\n",
       "      <td>to\u0000\u0000\u0000\u0000\u0000\u0000\u0000\u0000</td>\n",
       "      <td>PLAIN</td>\n",
       "    </tr>\n",
       "    <tr>\n",
       "      <th>11</th>\n",
       "      <td>Karisma\u0000\u0000\u0000</td>\n",
       "      <td>PLAIN</td>\n",
       "    </tr>\n",
       "    <tr>\n",
       "      <th>12</th>\n",
       "      <td>old\u0000\u0000\u0000\u0000\u0000\u0000\u0000</td>\n",
       "      <td>PLAIN</td>\n",
       "    </tr>\n",
       "    <tr>\n",
       "      <th>13</th>\n",
       "      <td>100\u0000\u0000\u0000\u0000\u0000\u0000\u0000</td>\n",
       "      <td>CARDINAL</td>\n",
       "    </tr>\n",
       "    <tr>\n",
       "      <th>14</th>\n",
       "      <td>Social\u0000\u0000\u0000\u0000</td>\n",
       "      <td>PLAIN</td>\n",
       "    </tr>\n",
       "    <tr>\n",
       "      <th>15</th>\n",
       "      <td>1\u0000\u0000\u0000\u0000\u0000\u0000\u0000\u0000\u0000</td>\n",
       "      <td>PUNCT</td>\n",
       "    </tr>\n",
       "    <tr>\n",
       "      <th>16</th>\n",
       "      <td>is\u0000\u0000\u0000\u0000\u0000\u0000\u0000\u0000</td>\n",
       "      <td>LETTERS</td>\n",
       "    </tr>\n",
       "    <tr>\n",
       "      <th>17</th>\n",
       "      <td>multitude\u0000</td>\n",
       "      <td>PLAIN</td>\n",
       "    </tr>\n",
       "    <tr>\n",
       "      <th>18</th>\n",
       "      <td>.\u0000\u0000\u0000\u0000\u0000\u0000\u0000\u0000\u0000</td>\n",
       "      <td>PUNCT</td>\n",
       "    </tr>\n",
       "    <tr>\n",
       "      <th>19</th>\n",
       "      <td>the\u0000\u0000\u0000\u0000\u0000\u0000\u0000</td>\n",
       "      <td>PLAIN</td>\n",
       "    </tr>\n",
       "    <tr>\n",
       "      <th>20</th>\n",
       "      <td>quite\u0000\u0000\u0000\u0000\u0000</td>\n",
       "      <td>PLAIN</td>\n",
       "    </tr>\n",
       "    <tr>\n",
       "      <th>21</th>\n",
       "      <td>the\u0000\u0000\u0000\u0000\u0000\u0000\u0000</td>\n",
       "      <td>PLAIN</td>\n",
       "    </tr>\n",
       "    <tr>\n",
       "      <th>22</th>\n",
       "      <td>to\u0000\u0000\u0000\u0000\u0000\u0000\u0000\u0000</td>\n",
       "      <td>LETTERS</td>\n",
       "    </tr>\n",
       "    <tr>\n",
       "      <th>23</th>\n",
       "      <td>in\u0000\u0000\u0000\u0000\u0000\u0000\u0000\u0000</td>\n",
       "      <td>LETTERS</td>\n",
       "    </tr>\n",
       "    <tr>\n",
       "      <th>24</th>\n",
       "      <td>.\u0000\u0000\u0000\u0000\u0000\u0000\u0000\u0000\u0000</td>\n",
       "      <td>PUNCT</td>\n",
       "    </tr>\n",
       "    <tr>\n",
       "      <th>25</th>\n",
       "      <td>on\u0000\u0000\u0000\u0000\u0000\u0000\u0000\u0000</td>\n",
       "      <td>PLAIN</td>\n",
       "    </tr>\n",
       "    <tr>\n",
       "      <th>26</th>\n",
       "      <td>(\u0000\u0000\u0000\u0000\u0000\u0000\u0000\u0000\u0000</td>\n",
       "      <td>PUNCT</td>\n",
       "    </tr>\n",
       "    <tr>\n",
       "      <th>27</th>\n",
       "      <td>called\u0000\u0000\u0000\u0000</td>\n",
       "      <td>PLAIN</td>\n",
       "    </tr>\n",
       "    <tr>\n",
       "      <th>28</th>\n",
       "      <td>Conference</td>\n",
       "      <td>PLAIN</td>\n",
       "    </tr>\n",
       "    <tr>\n",
       "      <th>29</th>\n",
       "      <td>,\u0000\u0000\u0000\u0000\u0000\u0000\u0000\u0000\u0000</td>\n",
       "      <td>PUNCT</td>\n",
       "    </tr>\n",
       "  </tbody>\n",
       "</table>\n",
       "</div>"
      ],
      "text/plain": [
       "          data   predict\n",
       "0   1,246 km²\u0000     MONEY\n",
       "1   London\u0000\u0000\u0000\u0000     PLAIN\n",
       "2   Etales\u0000\u0000\u0000\u0000     PLAIN\n",
       "3   window\u0000\u0000\u0000\u0000     PLAIN\n",
       "4   cancer\u0000\u0000\u0000\u0000     PLAIN\n",
       "5   Macclesfie     PLAIN\n",
       "6   ت\u0000\u0000\u0000\u0000\u0000\u0000\u0000\u0000\u0000  VERBATIM\n",
       "7   of\u0000\u0000\u0000\u0000\u0000\u0000\u0000\u0000     PLAIN\n",
       "8   to\u0000\u0000\u0000\u0000\u0000\u0000\u0000\u0000     PLAIN\n",
       "9   Dhruva\u0000\u0000\u0000\u0000     PLAIN\n",
       "10  to\u0000\u0000\u0000\u0000\u0000\u0000\u0000\u0000     PLAIN\n",
       "11  Karisma\u0000\u0000\u0000     PLAIN\n",
       "12  old\u0000\u0000\u0000\u0000\u0000\u0000\u0000     PLAIN\n",
       "13  100\u0000\u0000\u0000\u0000\u0000\u0000\u0000  CARDINAL\n",
       "14  Social\u0000\u0000\u0000\u0000     PLAIN\n",
       "15  1\u0000\u0000\u0000\u0000\u0000\u0000\u0000\u0000\u0000     PUNCT\n",
       "16  is\u0000\u0000\u0000\u0000\u0000\u0000\u0000\u0000   LETTERS\n",
       "17  multitude\u0000     PLAIN\n",
       "18  .\u0000\u0000\u0000\u0000\u0000\u0000\u0000\u0000\u0000     PUNCT\n",
       "19  the\u0000\u0000\u0000\u0000\u0000\u0000\u0000     PLAIN\n",
       "20  quite\u0000\u0000\u0000\u0000\u0000     PLAIN\n",
       "21  the\u0000\u0000\u0000\u0000\u0000\u0000\u0000     PLAIN\n",
       "22  to\u0000\u0000\u0000\u0000\u0000\u0000\u0000\u0000   LETTERS\n",
       "23  in\u0000\u0000\u0000\u0000\u0000\u0000\u0000\u0000   LETTERS\n",
       "24  .\u0000\u0000\u0000\u0000\u0000\u0000\u0000\u0000\u0000     PUNCT\n",
       "25  on\u0000\u0000\u0000\u0000\u0000\u0000\u0000\u0000     PLAIN\n",
       "26  (\u0000\u0000\u0000\u0000\u0000\u0000\u0000\u0000\u0000     PUNCT\n",
       "27  called\u0000\u0000\u0000\u0000     PLAIN\n",
       "28  Conference     PLAIN\n",
       "29  ,\u0000\u0000\u0000\u0000\u0000\u0000\u0000\u0000\u0000     PUNCT"
      ]
     },
     "execution_count": 63,
     "metadata": {},
     "output_type": "execute_result"
    }
   ],
   "source": [
    "df_predicted_valid.head(30)"
   ]
  },
  {
   "cell_type": "code",
   "execution_count": 49,
   "metadata": {},
   "outputs": [],
   "source": [
    "test_dataset = pd.read_csv(\"input/en_test.csv\")"
   ]
  },
  {
   "cell_type": "code",
   "execution_count": 50,
   "metadata": {},
   "outputs": [],
   "source": [
    "test_data = test_dataset['before'].values"
   ]
  },
  {
   "cell_type": "code",
   "execution_count": 51,
   "metadata": {},
   "outputs": [],
   "source": [
    "def make_encoded_space_padded_tokens(data, max_num_features, space_char):\n",
    "    space_padded_tokens = list()\n",
    "    for before_value in data:\n",
    "        space_padded_token = np.ones(max_num_features, dtype=int) * space_char\n",
    "        before_value_c_str = list(str(before_value))\n",
    "        for before_value_char, i in zip(before_value_c_str, range(max_num_features)):\n",
    "            space_padded_token[i] = ord(before_value_char)\n",
    "        space_padded_tokens.append(space_padded_token)\n",
    "    return space_padded_tokens"
   ]
  },
  {
   "cell_type": "code",
   "execution_count": 52,
   "metadata": {},
   "outputs": [],
   "source": [
    "test_data = make_encoded_space_padded_tokens(data=test_data, max_num_features=max_num_features, space_char=0)"
   ]
  },
  {
   "cell_type": "code",
   "execution_count": 53,
   "metadata": {},
   "outputs": [],
   "source": [
    "test_data = np.array(make_flat_context_windows(data=test_data, pad_size=1, max_num_features=max_num_features, boundary_letter=-1))"
   ]
  },
  {
   "cell_type": "code",
   "execution_count": 54,
   "metadata": {},
   "outputs": [],
   "source": [
    "test_data = np.reshape(test_data, (test_data.shape[0], test_data.shape[1], 1))"
   ]
  },
  {
   "cell_type": "code",
   "execution_count": 55,
   "metadata": {},
   "outputs": [],
   "source": [
    "predicted_data = model.predict(test_data)"
   ]
  },
  {
   "cell_type": "code",
   "execution_count": 56,
   "metadata": {},
   "outputs": [],
   "source": [
    "predicted_data = [labels[np.argmax(char)] for char in predicted_data]\n",
    "test_data = [[chr(wrd) for wrd in char[2 + max_num_features: 2 + max_num_features * 2]] for char in test_data]\n",
    "test_data = [''.join(wrd) for wrd in test_data]\n",
    "test_data = [re.sub('a+$', '', wrd) for wrd in test_data]"
   ]
  },
  {
   "cell_type": "code",
   "execution_count": 57,
   "metadata": {},
   "outputs": [
    {
     "data": {
      "text/plain": [
       "20"
      ]
     },
     "execution_count": 57,
     "metadata": {},
     "output_type": "execute_result"
    }
   ],
   "source": [
    "gc.collect()"
   ]
  },
  {
   "cell_type": "code",
   "execution_count": 58,
   "metadata": {},
   "outputs": [],
   "source": [
    "df_predicted = pd.DataFrame(columns=['data', 'predict'])\n",
    "df_predicted['data'] = test_data\n",
    "df_predicted['predict'] = predicted_data\n",
    "df_predicted.to_csv('pred_lstm.csv')"
   ]
  },
  {
   "cell_type": "code",
   "execution_count": 61,
   "metadata": {},
   "outputs": [
    {
     "data": {
      "text/html": [
       "<div>\n",
       "<style scoped>\n",
       "    .dataframe tbody tr th:only-of-type {\n",
       "        vertical-align: middle;\n",
       "    }\n",
       "\n",
       "    .dataframe tbody tr th {\n",
       "        vertical-align: top;\n",
       "    }\n",
       "\n",
       "    .dataframe thead th {\n",
       "        text-align: right;\n",
       "    }\n",
       "</style>\n",
       "<table border=\"1\" class=\"dataframe\">\n",
       "  <thead>\n",
       "    <tr style=\"text-align: right;\">\n",
       "      <th></th>\n",
       "      <th>data</th>\n",
       "      <th>predict</th>\n",
       "    </tr>\n",
       "  </thead>\n",
       "  <tbody>\n",
       "    <tr>\n",
       "      <th>0</th>\n",
       "      <td>Another\u0000\u0000\u0000</td>\n",
       "      <td>PLAIN</td>\n",
       "    </tr>\n",
       "    <tr>\n",
       "      <th>1</th>\n",
       "      <td>religious\u0000</td>\n",
       "      <td>PLAIN</td>\n",
       "    </tr>\n",
       "    <tr>\n",
       "      <th>2</th>\n",
       "      <td>family\u0000\u0000\u0000\u0000</td>\n",
       "      <td>PLAIN</td>\n",
       "    </tr>\n",
       "    <tr>\n",
       "      <th>3</th>\n",
       "      <td>is\u0000\u0000\u0000\u0000\u0000\u0000\u0000\u0000</td>\n",
       "      <td>LETTERS</td>\n",
       "    </tr>\n",
       "    <tr>\n",
       "      <th>4</th>\n",
       "      <td>of\u0000\u0000\u0000\u0000\u0000\u0000\u0000\u0000</td>\n",
       "      <td>PLAIN</td>\n",
       "    </tr>\n",
       "    <tr>\n",
       "      <th>5</th>\n",
       "      <td>Hazrat\u0000\u0000\u0000\u0000</td>\n",
       "      <td>PLAIN</td>\n",
       "    </tr>\n",
       "    <tr>\n",
       "      <th>6</th>\n",
       "      <td>Sayyed\u0000\u0000\u0000\u0000</td>\n",
       "      <td>PLAIN</td>\n",
       "    </tr>\n",
       "    <tr>\n",
       "      <th>7</th>\n",
       "      <td>Ahmad\u0000\u0000\u0000\u0000\u0000</td>\n",
       "      <td>PLAIN</td>\n",
       "    </tr>\n",
       "    <tr>\n",
       "      <th>8</th>\n",
       "      <td>and\u0000\u0000\u0000\u0000\u0000\u0000\u0000</td>\n",
       "      <td>PLAIN</td>\n",
       "    </tr>\n",
       "    <tr>\n",
       "      <th>9</th>\n",
       "      <td>his\u0000\u0000\u0000\u0000\u0000\u0000\u0000</td>\n",
       "      <td>PLAIN</td>\n",
       "    </tr>\n",
       "    <tr>\n",
       "      <th>10</th>\n",
       "      <td>nephew\u0000\u0000\u0000\u0000</td>\n",
       "      <td>PLAIN</td>\n",
       "    </tr>\n",
       "    <tr>\n",
       "      <th>11</th>\n",
       "      <td>Hazrat\u0000\u0000\u0000\u0000</td>\n",
       "      <td>PLAIN</td>\n",
       "    </tr>\n",
       "    <tr>\n",
       "      <th>12</th>\n",
       "      <td>Abdul\u0000\u0000\u0000\u0000\u0000</td>\n",
       "      <td>PLAIN</td>\n",
       "    </tr>\n",
       "    <tr>\n",
       "      <th>13</th>\n",
       "      <td>Haq\u0000\u0000\u0000\u0000\u0000\u0000\u0000</td>\n",
       "      <td>LETTERS</td>\n",
       "    </tr>\n",
       "    <tr>\n",
       "      <th>14</th>\n",
       "      <td>.\u0000\u0000\u0000\u0000\u0000\u0000\u0000\u0000\u0000</td>\n",
       "      <td>PUNCT</td>\n",
       "    </tr>\n",
       "    <tr>\n",
       "      <th>15</th>\n",
       "      <td>The\u0000\u0000\u0000\u0000\u0000\u0000\u0000</td>\n",
       "      <td>PLAIN</td>\n",
       "    </tr>\n",
       "    <tr>\n",
       "      <th>16</th>\n",
       "      <td>free\u0000\u0000\u0000\u0000\u0000\u0000</td>\n",
       "      <td>PLAIN</td>\n",
       "    </tr>\n",
       "    <tr>\n",
       "      <th>17</th>\n",
       "      <td>webapp\u0000\u0000\u0000\u0000</td>\n",
       "      <td>PLAIN</td>\n",
       "    </tr>\n",
       "    <tr>\n",
       "      <th>18</th>\n",
       "      <td>functional</td>\n",
       "      <td>PLAIN</td>\n",
       "    </tr>\n",
       "    <tr>\n",
       "      <th>19</th>\n",
       "      <td>contains\u0000\u0000</td>\n",
       "      <td>PLAIN</td>\n",
       "    </tr>\n",
       "    <tr>\n",
       "      <th>20</th>\n",
       "      <td>advertisem</td>\n",
       "      <td>PLAIN</td>\n",
       "    </tr>\n",
       "    <tr>\n",
       "      <th>21</th>\n",
       "      <td>geared\u0000\u0000\u0000\u0000</td>\n",
       "      <td>PLAIN</td>\n",
       "    </tr>\n",
       "    <tr>\n",
       "      <th>22</th>\n",
       "      <td>to\u0000\u0000\u0000\u0000\u0000\u0000\u0000\u0000</td>\n",
       "      <td>PLAIN</td>\n",
       "    </tr>\n",
       "    <tr>\n",
       "      <th>23</th>\n",
       "      <td>small\u0000\u0000\u0000\u0000\u0000</td>\n",
       "      <td>PLAIN</td>\n",
       "    </tr>\n",
       "    <tr>\n",
       "      <th>24</th>\n",
       "      <td>businesses</td>\n",
       "      <td>PLAIN</td>\n",
       "    </tr>\n",
       "    <tr>\n",
       "      <th>25</th>\n",
       "      <td>.\u0000\u0000\u0000\u0000\u0000\u0000\u0000\u0000\u0000</td>\n",
       "      <td>PUNCT</td>\n",
       "    </tr>\n",
       "    <tr>\n",
       "      <th>26</th>\n",
       "      <td>Kuklick\u0000\u0000\u0000</td>\n",
       "      <td>PLAIN</td>\n",
       "    </tr>\n",
       "    <tr>\n",
       "      <th>27</th>\n",
       "      <td>,\u0000\u0000\u0000\u0000\u0000\u0000\u0000\u0000\u0000</td>\n",
       "      <td>PUNCT</td>\n",
       "    </tr>\n",
       "    <tr>\n",
       "      <th>28</th>\n",
       "      <td>p\u0000\u0000\u0000\u0000\u0000\u0000\u0000\u0000\u0000</td>\n",
       "      <td>PLAIN</td>\n",
       "    </tr>\n",
       "    <tr>\n",
       "      <th>29</th>\n",
       "      <td>.\u0000\u0000\u0000\u0000\u0000\u0000\u0000\u0000\u0000</td>\n",
       "      <td>PUNCT</td>\n",
       "    </tr>\n",
       "  </tbody>\n",
       "</table>\n",
       "</div>"
      ],
      "text/plain": [
       "          data  predict\n",
       "0   Another\u0000\u0000\u0000    PLAIN\n",
       "1   religious\u0000    PLAIN\n",
       "2   family\u0000\u0000\u0000\u0000    PLAIN\n",
       "3   is\u0000\u0000\u0000\u0000\u0000\u0000\u0000\u0000  LETTERS\n",
       "4   of\u0000\u0000\u0000\u0000\u0000\u0000\u0000\u0000    PLAIN\n",
       "5   Hazrat\u0000\u0000\u0000\u0000    PLAIN\n",
       "6   Sayyed\u0000\u0000\u0000\u0000    PLAIN\n",
       "7   Ahmad\u0000\u0000\u0000\u0000\u0000    PLAIN\n",
       "8   and\u0000\u0000\u0000\u0000\u0000\u0000\u0000    PLAIN\n",
       "9   his\u0000\u0000\u0000\u0000\u0000\u0000\u0000    PLAIN\n",
       "10  nephew\u0000\u0000\u0000\u0000    PLAIN\n",
       "11  Hazrat\u0000\u0000\u0000\u0000    PLAIN\n",
       "12  Abdul\u0000\u0000\u0000\u0000\u0000    PLAIN\n",
       "13  Haq\u0000\u0000\u0000\u0000\u0000\u0000\u0000  LETTERS\n",
       "14  .\u0000\u0000\u0000\u0000\u0000\u0000\u0000\u0000\u0000    PUNCT\n",
       "15  The\u0000\u0000\u0000\u0000\u0000\u0000\u0000    PLAIN\n",
       "16  free\u0000\u0000\u0000\u0000\u0000\u0000    PLAIN\n",
       "17  webapp\u0000\u0000\u0000\u0000    PLAIN\n",
       "18  functional    PLAIN\n",
       "19  contains\u0000\u0000    PLAIN\n",
       "20  advertisem    PLAIN\n",
       "21  geared\u0000\u0000\u0000\u0000    PLAIN\n",
       "22  to\u0000\u0000\u0000\u0000\u0000\u0000\u0000\u0000    PLAIN\n",
       "23  small\u0000\u0000\u0000\u0000\u0000    PLAIN\n",
       "24  businesses    PLAIN\n",
       "25  .\u0000\u0000\u0000\u0000\u0000\u0000\u0000\u0000\u0000    PUNCT\n",
       "26  Kuklick\u0000\u0000\u0000    PLAIN\n",
       "27  ,\u0000\u0000\u0000\u0000\u0000\u0000\u0000\u0000\u0000    PUNCT\n",
       "28  p\u0000\u0000\u0000\u0000\u0000\u0000\u0000\u0000\u0000    PLAIN\n",
       "29  .\u0000\u0000\u0000\u0000\u0000\u0000\u0000\u0000\u0000    PUNCT"
      ]
     },
     "execution_count": 61,
     "metadata": {},
     "output_type": "execute_result"
    }
   ],
   "source": [
    "df_predicted.head(30)"
   ]
  },
  {
   "cell_type": "code",
   "execution_count": 59,
   "metadata": {},
   "outputs": [],
   "source": [
    "all_classes = set(training_data['class'].unique())\n",
    "predicted_classes = set(df_predicted['predict'].unique())\n",
    "missing_classes = all_classes - predicted_classes"
   ]
  },
  {
   "cell_type": "code",
   "execution_count": 60,
   "metadata": {},
   "outputs": [
    {
     "name": "stdout",
     "output_type": "stream",
     "text": [
      "Missing Classes:\n",
      "FRACTION\n",
      "DECIMAL\n",
      "DIGIT\n",
      "ADDRESS\n",
      "ELECTRONIC\n",
      "TIME\n"
     ]
    }
   ],
   "source": [
    "print(\"Missing Classes:\")\n",
    "for cls in missing_classes: print(cls)"
   ]
  },
  {
   "cell_type": "code",
   "execution_count": 62,
   "metadata": {},
   "outputs": [
    {
     "data": {
      "text/plain": [
       "{'CARDINAL',\n",
       " 'DATE',\n",
       " 'LETTERS',\n",
       " 'MEASURE',\n",
       " 'MONEY',\n",
       " 'ORDINAL',\n",
       " 'PLAIN',\n",
       " 'PUNCT',\n",
       " 'TELEPHONE',\n",
       " 'VERBATIM'}"
      ]
     },
     "execution_count": 62,
     "metadata": {},
     "output_type": "execute_result"
    }
   ],
   "source": [
    "predicted_classes"
   ]
  },
  {
   "cell_type": "code",
   "execution_count": null,
   "metadata": {},
   "outputs": [],
   "source": []
  }
 ],
 "metadata": {
  "kernelspec": {
   "display_name": "Python 3",
   "language": "python",
   "name": "python3"
  },
  "language_info": {
   "codemirror_mode": {
    "name": "ipython",
    "version": 3
   },
   "file_extension": ".py",
   "mimetype": "text/x-python",
   "name": "python",
   "nbconvert_exporter": "python",
   "pygments_lexer": "ipython3",
   "version": "3.7.9"
  }
 },
 "nbformat": 4,
 "nbformat_minor": 4
}
